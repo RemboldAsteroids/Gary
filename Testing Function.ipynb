{
 "cells": [
  {
   "cell_type": "code",
   "execution_count": 13,
   "metadata": {},
   "outputs": [],
   "source": [
    "import io, os, sys, types\n"
   ]
  },
  {
   "cell_type": "code",
   "execution_count": 14,
   "metadata": {},
   "outputs": [],
   "source": [
    "import math\n",
    "import sqlite3\n",
    "import pandas as pd\n",
    "import numpy as np\n",
    "import matplotlib.pyplot as plt\n",
    "import os\n",
    "import cv2\n",
    "import time\n",
    "import datetime\n",
    "from statsmodels import robust\n",
    "import matplotlib as mpl\n",
    "from matplotlib import gridspec\n",
    "import pylab\n",
    "from matplotlib import cm\n",
    "from pytz import timezone\n",
    "import Analysis\n",
    "import Threshold\n",
    "import Empty\n"
   ]
  },
  {
   "cell_type": "code",
   "execution_count": 15,
   "metadata": {},
   "outputs": [],
   "source": [
    "from IPython import get_ipython\n",
    "from nbformat import read\n",
    "from IPython.core.interactiveshell import InteractiveShell"
   ]
  },
  {
   "cell_type": "code",
   "execution_count": 16,
   "metadata": {},
   "outputs": [],
   "source": [
    "# List directory contents and create list of avi videos \n",
    "vidpath = 'C:\\\\Users\\\\locke\\\\Documents\\\\Thesis\\\\Media'\n",
    "\n",
    "dircontents = np.array(os.listdir(vidpath))\n",
    "\n",
    "# Look at specific directory and scan it for png images\n",
    "cond = [(file[-4:] == '.png') for file in dircontents]\n",
    "onlypics = dircontents[cond]\n",
    "\n",
    "#data = np.loadtxt('cloud_days.txt', dtype=str) \n",
    "#cond09 = np.invert([onlypics[i] in np.unique(np.array(data)[:,0]) for i in np.arange(0,len(onlypics))])\n",
    "#onlypics = onlypics[cond09]\n",
    "\n",
    "# Sort by date most recent\n",
    "in_order = sorted(onlypics, key=lambda x: datetime.datetime.strptime(x, '%Y%m%d_%H%M%S_Snap.png'))\n",
    "onlypics = in_order[::-1]\n",
    "len(onlypics)\n",
    "\n",
    "\n",
    "#import pickle\n",
    "#with open('', 'wb') as fp:\n",
    "    #pickle.dump(onlypics, fp)\n",
    "#Writes out the name of each photo found the above onlypics list.\n",
    "with open(\"C:\\\\Users\\\\locke\\\\Documents\\\\Thesis\\\\Fireball Photos, Threshold Values, and Area Values\\\\Photo_Names.txt\", 'w') as output:\n",
    "    for row in onlypics:\n",
    "        output.write(str(row) + '\\n')"
   ]
  },
  {
   "cell_type": "code",
   "execution_count": 17,
   "metadata": {},
   "outputs": [
    {
     "data": {
      "text/plain": [
       "'..\\\\Media\\\\test.png'"
      ]
     },
     "execution_count": 17,
     "metadata": {},
     "output_type": "execute_result"
    }
   ],
   "source": [
    "#Testing to make sure the path works\n",
    "\n",
    "path = \"..\\\\Media\"\n",
    "test = os.path.join(path,\"test.png\")\n",
    "test"
   ]
  },
  {
   "cell_type": "code",
   "execution_count": 18,
   "metadata": {},
   "outputs": [],
   "source": [
    "#Use the threshold script to output a list of threshold values and also write them down in a separate text document\n",
    "\n",
    "threshlist = []\n",
    "for i in onlypics:\n",
    "    fullpath = os.path.join(path, i)\n",
    "    thresh = Threshold.Threshold(fullpath)\n",
    "    threshlist.append(thresh)\n",
    "    \n",
    "with open(\"C:\\\\Users\\\\locke\\\\Documents\\\\Thesis\\\\Fireball Photos, Threshold Values, and Area Values\\\\Photo_Thresh_Values.txt\", 'w') as output:\n",
    "    for row in threshlist:\n",
    "        output.write(str(row) + '\\n')"
   ]
  },
  {
   "cell_type": "code",
   "execution_count": 19,
   "metadata": {},
   "outputs": [
    {
     "data": {
      "text/plain": [
       "624"
      ]
     },
     "execution_count": 19,
     "metadata": {},
     "output_type": "execute_result"
    }
   ],
   "source": [
    "#Making sure every photo was assigned a threshold value\n",
    "len(threshlist)"
   ]
  },
  {
   "cell_type": "code",
   "execution_count": 1,
   "metadata": {},
   "outputs": [
    {
     "ename": "NameError",
     "evalue": "name 'onlypics' is not defined",
     "output_type": "error",
     "traceback": [
      "\u001b[1;31m---------------------------------------------------------------------------\u001b[0m",
      "\u001b[1;31mNameError\u001b[0m                                 Traceback (most recent call last)",
      "\u001b[1;32m<ipython-input-1-ec780a62a78a>\u001b[0m in \u001b[0;36m<module>\u001b[1;34m\u001b[0m\n\u001b[0;32m      5\u001b[0m \u001b[0mArealist\u001b[0m \u001b[1;33m=\u001b[0m \u001b[1;33m[\u001b[0m\u001b[1;33m]\u001b[0m\u001b[1;33m\u001b[0m\u001b[1;33m\u001b[0m\u001b[0m\n\u001b[0;32m      6\u001b[0m \u001b[1;33m\u001b[0m\u001b[0m\n\u001b[1;32m----> 7\u001b[1;33m \u001b[1;32mfor\u001b[0m \u001b[0mi\u001b[0m\u001b[1;33m,\u001b[0m \u001b[0mpic\u001b[0m \u001b[1;32min\u001b[0m \u001b[0menumerate\u001b[0m\u001b[1;33m(\u001b[0m\u001b[0monlypics\u001b[0m\u001b[1;33m)\u001b[0m\u001b[1;33m:\u001b[0m\u001b[1;33m\u001b[0m\u001b[1;33m\u001b[0m\u001b[0m\n\u001b[0m\u001b[0;32m      8\u001b[0m     \u001b[0mfullpath\u001b[0m \u001b[1;33m=\u001b[0m \u001b[0mos\u001b[0m\u001b[1;33m.\u001b[0m\u001b[0mpath\u001b[0m\u001b[1;33m.\u001b[0m\u001b[0mjoin\u001b[0m\u001b[1;33m(\u001b[0m\u001b[0mpath\u001b[0m\u001b[1;33m,\u001b[0m \u001b[0mpic\u001b[0m\u001b[1;33m)\u001b[0m\u001b[1;33m;\u001b[0m\u001b[1;34m''\u001b[0m\u001b[1;33m\u001b[0m\u001b[1;33m\u001b[0m\u001b[0m\n\u001b[0;32m      9\u001b[0m     \u001b[0mArea\u001b[0m \u001b[1;33m=\u001b[0m \u001b[0mAnalysis\u001b[0m\u001b[1;33m.\u001b[0m\u001b[0mSkyArea\u001b[0m\u001b[1;33m(\u001b[0m\u001b[0mfullpath\u001b[0m\u001b[1;33m,\u001b[0m\u001b[1;36m1\u001b[0m\u001b[1;33m,\u001b[0m\u001b[1;36m1\u001b[0m\u001b[1;33m,\u001b[0m\u001b[0mthreshlist\u001b[0m\u001b[1;33m[\u001b[0m\u001b[0mi\u001b[0m\u001b[1;33m]\u001b[0m\u001b[1;33m,\u001b[0m\u001b[1;36m255\u001b[0m\u001b[1;33m)\u001b[0m\u001b[1;33m\u001b[0m\u001b[1;33m\u001b[0m\u001b[0m\n",
      "\u001b[1;31mNameError\u001b[0m: name 'onlypics' is not defined"
     ]
    }
   ],
   "source": [
    "#Use the Area script to find the area of every captured image, the required values are where the images can be found\n",
    "#the height and width of the pixel areas, the threshold list, and the threshold switch to value, which is a white pixel.\n",
    "#NOTE: this program can take a long time to run, a lunch or coffee break is highly suggested while running it. \n",
    "#The time could be decreased if the area map PJ made didn't have to be remade every time a new image is input, but I didn't\n",
    "#get around to that....\n",
    "\n",
    "Arealist = []\n",
    "\n",
    "for i, pic in enumerate(onlypics):\n",
    "    fullpath = os.path.join(path, pic);''\n",
    "    Area = Analysis.SkyArea(fullpath,1,1,threshlist[i],255)\n",
    "    Arealist.append(Area)\n",
    "    \n",
    "with open(\"C:\\\\Users\\\\locke\\\\Documents\\\\Thesis\\\\Fireball Photos, Threshold Values, and Area Values\\\\Photo_Area_Values.txt\", 'w') as output:\n",
    "    for row in Arealist:\n",
    "        output.write(str(row) + '\\n')\n",
    "        "
   ]
  },
  {
   "cell_type": "code",
   "execution_count": null,
   "metadata": {},
   "outputs": [],
   "source": [
    "#Making sure everything is working okay\n",
    "\n",
    "fullpath = os.path.join(path, onlypics[1])\n",
    "Analysis.SkyArea(fullpath,1,1,threshlist[1],255)"
   ]
  },
  {
   "cell_type": "code",
   "execution_count": null,
   "metadata": {},
   "outputs": [],
   "source": [
    "onlypics.index('20190927_040316_Snap.png')"
   ]
  },
  {
   "cell_type": "code",
   "execution_count": 21,
   "metadata": {},
   "outputs": [],
   "source": [
    "#Formatting our three separate lists into a single text file for review if needed.\n",
    "\n",
    "totallist = []\n",
    "for i in range(len(onlypics)):\n",
    "    totallist.append(\"For the captured image: \" + str(onlypics[i])+ \", the threshold used was: \" +str(threshlist[i])+\", and the total area detected was: \"+str(Arealist[i])+\".\")\n",
    "\n",
    "with open(\"C:\\\\Users\\\\locke\\\\Documents\\\\Thesis\\\\Fireball Photos, Threshold Values, and Area Values\\\\Total_List.txt\", 'w') as output:\n",
    "    for row in totallist:\n",
    "        output.write(str(row) + '\\n')"
   ]
  },
  {
   "cell_type": "code",
   "execution_count": 22,
   "metadata": {},
   "outputs": [
    {
     "data": {
      "text/plain": [
       "49497.58470507813"
      ]
     },
     "execution_count": 22,
     "metadata": {},
     "output_type": "execute_result"
    }
   ],
   "source": [
    "#Finding the average area for the images\n",
    "\n",
    "np.sum(Arealist)/len(Arealist)"
   ]
  },
  {
   "cell_type": "code",
   "execution_count": 23,
   "metadata": {},
   "outputs": [
    {
     "data": {
      "text/plain": [
       "624"
      ]
     },
     "execution_count": 23,
     "metadata": {},
     "output_type": "execute_result"
    }
   ],
   "source": [
    "len(Arealist)"
   ]
  },
  {
   "cell_type": "code",
   "execution_count": null,
   "metadata": {},
   "outputs": [],
   "source": []
  }
 ],
 "metadata": {
  "kernelspec": {
   "display_name": "Python 3",
   "language": "python",
   "name": "python3"
  },
  "language_info": {
   "codemirror_mode": {
    "name": "ipython",
    "version": 3
   },
   "file_extension": ".py",
   "mimetype": "text/x-python",
   "name": "python",
   "nbconvert_exporter": "python",
   "pygments_lexer": "ipython3",
   "version": "3.7.3"
  }
 },
 "nbformat": 4,
 "nbformat_minor": 2
}
