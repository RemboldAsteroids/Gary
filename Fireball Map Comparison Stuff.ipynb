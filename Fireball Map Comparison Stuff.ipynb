{
 "cells": [
  {
   "cell_type": "code",
   "execution_count": 5,
   "metadata": {},
   "outputs": [],
   "source": [
    "import math\n",
    "import sqlite3\n",
    "import pandas as pd\n",
    "import numpy as np\n",
    "import matplotlib.pyplot as plt\n",
    "import os\n",
    "import cv2\n",
    "import time\n",
    "import datetime\n",
    "from statsmodels import robust\n",
    "import matplotlib as mpl\n",
    "from matplotlib import gridspec\n",
    "import pylab\n",
    "from matplotlib import cm\n",
    "from pytz import timezone\n",
    "import Analysis"
   ]
  },
  {
   "cell_type": "code",
   "execution_count": 6,
   "metadata": {},
   "outputs": [],
   "source": [
    "#overlay = cv2.imread(\"Black Frame with a White Oval.png\",0)\n",
    "#protomap = cv2.imread(\"Prototype Map.png\",0)"
   ]
  },
  {
   "cell_type": "code",
   "execution_count": 7,
   "metadata": {},
   "outputs": [],
   "source": [
    "#cv2.imshow('Overlay',overlay)\n",
    "#cv2.waitKey(0)\n",
    "#cv2.destroyAllWindows()"
   ]
  },
  {
   "cell_type": "code",
   "execution_count": 8,
   "metadata": {},
   "outputs": [],
   "source": [
    "#newoverlay = overlay/255\n",
    "#cv2.imshow(\"Overlay\",overlay)\n",
    "#cv2.waitKey(0)\n",
    "#cv2.destroyAllWindows()\n"
   ]
  },
  {
   "cell_type": "code",
   "execution_count": 9,
   "metadata": {},
   "outputs": [],
   "source": [
    "#cv2.imshow(\"Prototype Map\",protomap)\n",
    "#cv2.waitKey(0)\n",
    "#cv2.destroyAllWindows()"
   ]
  },
  {
   "cell_type": "code",
   "execution_count": 10,
   "metadata": {},
   "outputs": [],
   "source": [
    "#newmap = protomap/255\n",
    "#cv2.imshow(\"Prototype Map\",newmap)\n",
    "#cv2.waitKey(0)\n",
    "#cv2.destroyAllWindows()"
   ]
  },
  {
   "cell_type": "code",
   "execution_count": 11,
   "metadata": {},
   "outputs": [],
   "source": [
    "#totalmap = newmap*newoverlay\n",
    "#cv2.imshow(\"Totalmap\",totalmap)\n",
    "#cv2.waitKey(0)\n",
    "#cv2.destroyAllWindows()"
   ]
  },
  {
   "cell_type": "code",
   "execution_count": 9,
   "metadata": {},
   "outputs": [],
   "source": [
    "Cloudmap = cv2.imread(\"Cloudmap.png\",0)\n",
    "kernel = np.ones((20,3),np.uint8)\n",
    "\n",
    "\n",
    "ret,threshCloud = cv2.threshold(Cloudmap,108,255,cv2.THRESH_BINARY_INV)\n",
    "threshCloudOpen = cv2.morphologyEx(threshCloud, cv2.MORPH_OPEN, kernel)\n",
    "threshCloudFinal = cv2.morphologyEx(threshCloudOpen, cv2.MORPH_CLOSE, kernel)\n",
    "cv2.imshow(\"Threshcloud\", threshCloudFinal)\n",
    "cv2.waitKey(0)\n",
    "cv2.destroyAllWindows()"
   ]
  },
  {
   "cell_type": "code",
   "execution_count": 10,
   "metadata": {},
   "outputs": [],
   "source": [
    "\n",
    "# Load angdist/pixel document [ratio, xloc, yloc]\n",
    "star_ratios = np.loadtxt('loc_and_ratios.txt')\n",
    "\n",
    "# Find center of data\n",
    "midpoint = (720/2,480/2)\n",
    "\n",
    "# Loop of angles to rotate through\n",
    "rads = np.arange(0,2*np.pi,np.deg2rad(5))\n",
    "\n",
    "empty = []\n",
    "\n",
    "for i in np.arange(0,len(rads)):\n",
    "    # rotate original by ang radians\n",
    "    ang = rads[i]\n",
    "    \n",
    "    # Make everything centered at (0,0)\n",
    "    xs = star_ratios[:,1]-midpoint[0]\n",
    "    ys = star_ratios[:,2]- midpoint[1]\n",
    "    \n",
    "    # Rotation matrix!\n",
    "    rota = [[np.cos(ang), -np.sin(ang)],[np.sin(ang),np.cos(ang)]]\n",
    "    mul = np.matmul(rota,[xs,ys])\n",
    "    trans = np.transpose(mul)\n",
    "    \n",
    "    # Move things back to way they were\n",
    "    xs2 = trans[:,0]+midpoint[0]\n",
    "    ys2 = trans[:,1]+midpoint[1]\n",
    "    \n",
    "    # Append to array\n",
    "    rotated_group = np.column_stack((star_ratios[:,0],xs2,ys2))\n",
    "    if i == 0:\n",
    "        all_rotated_copies = rotated_group\n",
    "    else:\n",
    "        all_rotated_copies = np.vstack((all_rotated_copies,rotated_group))"
   ]
  },
  {
   "cell_type": "code",
   "execution_count": 11,
   "metadata": {},
   "outputs": [],
   "source": [
    "# Only care about data points that fall within our camera pixel regions\n",
    "\n",
    "cond1 = (all_rotated_copies[:,1]>=0)&(all_rotated_copies[:,1]<=720)\n",
    "cond2 = (all_rotated_copies[:,2]>=0)&(all_rotated_copies[:,2]<=480)\n",
    "cond12 = cond1&cond2"
   ]
  },
  {
   "cell_type": "code",
   "execution_count": 22,
   "metadata": {},
   "outputs": [],
   "source": [
    "# Here we make the different squares have different ratio values\n",
    "\n",
    "# This inc can be changed to make squares different sized\n",
    "inc = 40\n",
    "xdivs = np.arange(0,720+inc,inc)\n",
    "ydivs = np.arange(0,480+inc,inc)\n",
    "ydivs = ydivs[::-1]\n",
    "\n",
    "# Create empty array\n",
    "empty = np.zeros((len(ydivs)-1,len(xdivs)-1))\n",
    "\n",
    "# Look in each square region\n",
    "for i in np.arange(0,len(xdivs)-1):\n",
    "    left = xdivs[i]\n",
    "    right = xdivs[i+1]\n",
    "    for j in np.arange(0,len(ydivs)-1):\n",
    "        bottom = ydivs[j+1]\n",
    "        top = ydivs[j]\n",
    "        \n",
    "        # Look at all data points within x and y bounds\n",
    "        cond_x = ((all_rotated_copies[:,1] >= left)&(all_rotated_copies[:,1] < right))\n",
    "        cond_y = ((all_rotated_copies[:,2] >= bottom)&(all_rotated_copies[:,2] < top))\n",
    "        cond_both = (cond_x&cond_y)\n",
    "        subset = all_rotated_copies[cond_both]\n",
    "        \n",
    "        # If anything is in there, average the ratios and append to empty array\n",
    "        if len(subset) > 0:\n",
    "            empty[j,i] = np.average(subset[:,0])\n",
    "        else:\n",
    "            empty[j,i] = 0"
   ]
  },
  {
   "cell_type": "code",
   "execution_count": null,
   "metadata": {},
   "outputs": [],
   "source": []
  },
  {
   "cell_type": "code",
   "execution_count": 23,
   "metadata": {},
   "outputs": [],
   "source": [
    "cloudmapAnalysis = empty"
   ]
  },
  {
   "cell_type": "code",
   "execution_count": 24,
   "metadata": {},
   "outputs": [
    {
     "data": {
      "text/plain": [
       "array([[0.        , 0.        , 0.22058637, 0.19380418, 0.20169589,\n",
       "        0.20341152, 0.20675743, 0.2155818 , 0.20160972, 0.20711157,\n",
       "        0.21960296, 0.2132165 , 0.19727154, 0.20445362, 0.19380418,\n",
       "        0.22376464, 0.        , 0.        ],\n",
       "       [0.        , 0.24915821, 0.19167958, 0.20445362, 0.20660517,\n",
       "        0.22009248, 0.19723566, 0.20136717, 0.20799798, 0.20631521,\n",
       "        0.20608951, 0.1957546 , 0.21452185, 0.20660517, 0.20169589,\n",
       "        0.19294654, 0.24915821, 0.        ],\n",
       "       [0.        , 0.20484539, 0.19849719, 0.19727154, 0.21452185,\n",
       "        0.19939671, 0.20409269, 0.18824759, 0.19964535, 0.19856396,\n",
       "        0.18844632, 0.20200041, 0.19939671, 0.22009248, 0.20341152,\n",
       "        0.20120566, 0.2091887 , 0.        ],\n",
       "       [0.24915821, 0.19936789, 0.20544007, 0.2132165 , 0.1957546 ,\n",
       "        0.20200041, 0.19726958, 0.20736006, 0.21076446, 0.21190694,\n",
       "        0.20714481, 0.19726958, 0.20409269, 0.19723566, 0.20675743,\n",
       "        0.20800709, 0.19012155, 0.24915821],\n",
       "       [0.22851576, 0.18942915, 0.19965608, 0.21960296, 0.20608951,\n",
       "        0.18845586, 0.20710152, 0.21958102, 0.22247193, 0.2226504 ,\n",
       "        0.21958102, 0.20736006, 0.18823497, 0.20106586, 0.2155818 ,\n",
       "        0.19995609, 0.20149191, 0.22058637],\n",
       "       [0.2086983 , 0.20452222, 0.19933086, 0.20711157, 0.20631521,\n",
       "        0.19856396, 0.21190694, 0.2226504 , 0.20724396, 0.20724396,\n",
       "        0.22247193, 0.21076446, 0.19965997, 0.20830685, 0.20160972,\n",
       "        0.19743612, 0.19571754, 0.21365567],\n",
       "       [0.21365567, 0.19571754, 0.19743612, 0.20160972, 0.20799798,\n",
       "        0.19964535, 0.21076446, 0.22247193, 0.20724396, 0.20724396,\n",
       "        0.2226544 , 0.21190694, 0.19856396, 0.20631521, 0.20711157,\n",
       "        0.19933086, 0.20452222, 0.2086983 ],\n",
       "       [0.22058637, 0.20149191, 0.19995609, 0.21571309, 0.20133809,\n",
       "        0.18824759, 0.20737321, 0.21956287, 0.2226544 , 0.22247193,\n",
       "        0.21956287, 0.20714481, 0.18844632, 0.20608951, 0.21960296,\n",
       "        0.19965608, 0.18942915, 0.22851576],\n",
       "       [0.24915821, 0.19012155, 0.20800709, 0.20675743, 0.19723566,\n",
       "        0.20409269, 0.19726958, 0.20710152, 0.21190694, 0.21076446,\n",
       "        0.20737321, 0.19726958, 0.20200041, 0.1957546 , 0.2132165 ,\n",
       "        0.20544007, 0.19936789, 0.24915821],\n",
       "       [0.        , 0.2091887 , 0.20120566, 0.20341152, 0.22009248,\n",
       "        0.19939671, 0.20200041, 0.18845586, 0.19856396, 0.19965997,\n",
       "        0.18823497, 0.20409269, 0.19939671, 0.21445412, 0.19727154,\n",
       "        0.19849719, 0.20484539, 0.        ],\n",
       "       [0.        , 0.24915821, 0.19294654, 0.20169589, 0.20665679,\n",
       "        0.21445412, 0.1957546 , 0.20608951, 0.20631521, 0.20799798,\n",
       "        0.20133809, 0.19723566, 0.22009248, 0.20665679, 0.20445362,\n",
       "        0.19167958, 0.24915821, 0.        ],\n",
       "       [0.        , 0.        , 0.22376464, 0.19380418, 0.20445362,\n",
       "        0.19727154, 0.2132165 , 0.21960296, 0.20713702, 0.201604  ,\n",
       "        0.21571309, 0.20675743, 0.20341152, 0.20169589, 0.19380418,\n",
       "        0.22058637, 0.        , 0.        ]])"
      ]
     },
     "execution_count": 24,
     "metadata": {},
     "output_type": "execute_result"
    }
   ],
   "source": [
    "cloudmapAnalysis"
   ]
  },
  {
   "cell_type": "code",
   "execution_count": 25,
   "metadata": {},
   "outputs": [],
   "source": [
    "NewCloudMapAnalysis = cv2.resize(cloudmapAnalysis,(720,480))"
   ]
  },
  {
   "cell_type": "code",
   "execution_count": 26,
   "metadata": {},
   "outputs": [],
   "source": [
    "Final = NewCloudMapAnalysis*threshCloudFinal"
   ]
  },
  {
   "cell_type": "code",
   "execution_count": 27,
   "metadata": {},
   "outputs": [
    {
     "data": {
      "text/plain": [
       "15953987.770694356"
      ]
     },
     "execution_count": 27,
     "metadata": {},
     "output_type": "execute_result"
    }
   ],
   "source": [
    "Summed = np.sum(Final)\n",
    "Summed"
   ]
  },
  {
   "cell_type": "code",
   "execution_count": 15,
   "metadata": {},
   "outputs": [
    {
     "name": "stdout",
     "output_type": "stream",
     "text": [
      "The value of the area of this image is: \n"
     ]
    },
    {
     "data": {
      "text/plain": [
       "16778927.246812925"
      ]
     },
     "execution_count": 15,
     "metadata": {},
     "output_type": "execute_result"
    }
   ],
   "source": [
    "Analysis.Fireball(\"20181119_030039_Snap.png\",20,3,108,255)"
   ]
  },
  {
   "cell_type": "code",
   "execution_count": 36,
   "metadata": {},
   "outputs": [
    {
     "ename": "NameError",
     "evalue": "name 'cv2' is not defined",
     "output_type": "error",
     "traceback": [
      "\u001b[1;31m---------------------------------------------------------------------------\u001b[0m",
      "\u001b[1;31mNameError\u001b[0m                                 Traceback (most recent call last)",
      "\u001b[1;32m<ipython-input-36-e498e4bf61de>\u001b[0m in \u001b[0;36m<module>\u001b[1;34m\u001b[0m\n\u001b[1;32m----> 1\u001b[1;33m \u001b[0mAnalysis\u001b[0m\u001b[1;33m.\u001b[0m\u001b[0mFireball\u001b[0m\u001b[1;33m(\u001b[0m\u001b[1;34m\"Cloudmap.png\"\u001b[0m\u001b[1;33m,\u001b[0m\u001b[1;36m20\u001b[0m\u001b[1;33m,\u001b[0m\u001b[1;36m3\u001b[0m\u001b[1;33m,\u001b[0m\u001b[1;36m108\u001b[0m\u001b[1;33m,\u001b[0m\u001b[1;36m255\u001b[0m\u001b[1;33m)\u001b[0m\u001b[1;33m\u001b[0m\u001b[1;33m\u001b[0m\u001b[0m\n\u001b[0m",
      "\u001b[1;32m~\\Documents\\Thesis\\Thesis Python Stuff!\\Analysis.py\u001b[0m in \u001b[0;36mFireball\u001b[1;34m(a, b, c, d, e)\u001b[0m\n\u001b[0;32m      1\u001b[0m \u001b[1;32mimport\u001b[0m \u001b[0mmath\u001b[0m\u001b[1;33m\u001b[0m\u001b[1;33m\u001b[0m\u001b[0m\n\u001b[1;32m----> 2\u001b[1;33m \u001b[1;32mimport\u001b[0m \u001b[0msqlite3\u001b[0m\u001b[1;33m\u001b[0m\u001b[1;33m\u001b[0m\u001b[0m\n\u001b[0m\u001b[0;32m      3\u001b[0m \u001b[1;32mimport\u001b[0m \u001b[0mpandas\u001b[0m \u001b[1;32mas\u001b[0m \u001b[0mpd\u001b[0m\u001b[1;33m\u001b[0m\u001b[1;33m\u001b[0m\u001b[0m\n\u001b[0;32m      4\u001b[0m \u001b[1;32mimport\u001b[0m \u001b[0mnumpy\u001b[0m \u001b[1;32mas\u001b[0m \u001b[0mnp\u001b[0m\u001b[1;33m\u001b[0m\u001b[1;33m\u001b[0m\u001b[0m\n\u001b[0;32m      5\u001b[0m \u001b[1;32mimport\u001b[0m \u001b[0mmatplotlib\u001b[0m\u001b[1;33m.\u001b[0m\u001b[0mpyplot\u001b[0m \u001b[1;32mas\u001b[0m \u001b[0mplt\u001b[0m\u001b[1;33m\u001b[0m\u001b[1;33m\u001b[0m\u001b[0m\n",
      "\u001b[1;31mNameError\u001b[0m: name 'cv2' is not defined"
     ]
    }
   ],
   "source": []
  },
  {
   "cell_type": "code",
   "execution_count": null,
   "metadata": {},
   "outputs": [],
   "source": []
  }
 ],
 "metadata": {
  "kernelspec": {
   "display_name": "Python 3",
   "language": "python",
   "name": "python3"
  },
  "language_info": {
   "codemirror_mode": {
    "name": "ipython",
    "version": 3
   },
   "file_extension": ".py",
   "mimetype": "text/x-python",
   "name": "python",
   "nbconvert_exporter": "python",
   "pygments_lexer": "ipython3",
   "version": "3.7.3"
  }
 },
 "nbformat": 4,
 "nbformat_minor": 2
}
