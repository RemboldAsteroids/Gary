{
 "cells": [
  {
   "cell_type": "code",
   "execution_count": 1,
   "metadata": {},
   "outputs": [],
   "source": [
    "import math\n",
    "import sqlite3\n",
    "import pandas as pd\n",
    "import numpy as np\n",
    "import matplotlib.pyplot as plt\n",
    "import os\n",
    "import cv2\n",
    "import time\n",
    "import datetime\n",
    "from statsmodels import robust\n",
    "import matplotlib as mpl\n",
    "from matplotlib import gridspec\n",
    "import pylab\n",
    "from matplotlib import cm\n",
    "from pytz import timezone\n",
    "import Analysis\n",
    "from scipy.stats import norm"
   ]
  },
  {
   "cell_type": "markdown",
   "metadata": {},
   "source": [
    "Adjusted code so that if value is above 100, switch to just saying the value is 100. This makes sure that the super cloduy images don't look weird when the area script is used."
   ]
  },
  {
   "cell_type": "code",
   "execution_count": 1,
   "metadata": {},
   "outputs": [],
   "source": [
    "#This program converts an image to grayscale, and then determines what the average pixel value is.\n",
    "#This value is multiplied by two to account for one standard deviation away from the average value.\n",
    "\n",
    "def Threshold(a):\n",
    "    img = cv2.imread(a,0)\n",
    "\n",
    "    #plt.hist(img.ravel(),64,[0,256]); plt.ylim(0,1000); plt.show()\n",
    "\n",
    "    list = img.ravel()\n",
    "\n",
    "    def Gaussian(x,x0,sig):\n",
    "        y= (1/(np.sqrt(2*np.pi)*sig))*np.exp(-(x-x0)**2/2/sig**2)\n",
    "        return(y)\n",
    "    #plt.hist(list,bins = 64,density=True)\n",
    "    xlist = np.arange(0,250,0.01)\n",
    "    ylist = Gaussian(xlist,np.mean(list),np.std(list))\n",
    "    #plt.plot(xlist,ylist)\n",
    "    value = np.mean(list)#-(np.std(list))\n",
    "    #print(\"The threshold value of this image is:\",value*2)\n",
    "    if value>100:\n",
    "        value = 100\n",
    "        return(value*2)\n",
    "    else:\n",
    "        return(value*2)"
   ]
  },
  {
   "cell_type": "code",
   "execution_count": null,
   "metadata": {},
   "outputs": [],
   "source": []
  }
 ],
 "metadata": {
  "kernelspec": {
   "display_name": "Python 3",
   "language": "python",
   "name": "python3"
  },
  "language_info": {
   "codemirror_mode": {
    "name": "ipython",
    "version": 3
   },
   "file_extension": ".py",
   "mimetype": "text/x-python",
   "name": "python",
   "nbconvert_exporter": "python",
   "pygments_lexer": "ipython3",
   "version": "3.7.3"
  }
 },
 "nbformat": 4,
 "nbformat_minor": 2
}
