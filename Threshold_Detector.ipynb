{
 "cells": [
  {
   "cell_type": "code",
   "execution_count": 1,
   "metadata": {},
   "outputs": [],
   "source": [
    "import math\n",
    "import sqlite3\n",
    "import pandas as pd\n",
    "import numpy as np\n",
    "import matplotlib.pyplot as plt\n",
    "import os\n",
    "import cv2\n",
    "import time\n",
    "import datetime\n",
    "from statsmodels import robust\n",
    "import matplotlib as mpl\n",
    "from matplotlib import gridspec\n",
    "import pylab\n",
    "from matplotlib import cm\n",
    "from pytz import timezone\n",
    "import Analysis\n",
    "from scipy.stats import norm"
   ]
  },
  {
   "cell_type": "markdown",
   "metadata": {},
   "source": [
    "A function to determine the values for each pixel in the image, and from there to determine the ideal threshohold value. To be automated after the code works for a sample of 6 images\n",
    "\n",
    "Make it a gaussian and take where two standard deviations away would be\n",
    "Also try finding where the slope goes from negative to positive"
   ]
  },
  {
   "cell_type": "code",
   "execution_count": 2,
   "metadata": {},
   "outputs": [
    {
     "data": {
      "image/png": "[encoded data removed]",
      "text/plain": [
       "<Figure size 432x288 with 1 Axes>"
      ]
     },
     "metadata": {
      "needs_background": "light"
     },
     "output_type": "display_data"
    },
    {
     "data": {
      "text/plain": [
       "92986.77291666667"
      ]
     },
     "execution_count": 2,
     "metadata": {},
     "output_type": "execute_result"
    }
   ],
   "source": [
    "img = cv2.imread(\"Clouds.png\",0)\n",
    "\n",
    "plt.hist(img.ravel(),64,[0,256]); plt.ylim(0,1000); plt.show()\n",
    "\n",
    "Sum = np.sum(img)\n",
    "\n",
    "Length = len(img)\n",
    "\n",
    "Sum/Length\n",
    "#cv2.calcHist(images, channels, mask, histSize, ranges[, hist[, accumulate]]) This is the raw function before values inputed\n",
    "\n",
    "#cv2.calcHist([img], [0], None, [256], [0,256])"
   ]
  },
  {
   "cell_type": "markdown",
   "metadata": {},
   "source": [
    "color = ('b','g','r')\n",
    "for i,col in enumerate(color):\n",
    "    histr = cv2.calcHist([img],[i],None,[256],[0,256])\n",
    "    plt.plot(histr,color = col)\n",
    "    plt.xlim([0,256])\n",
    "plt.show()"
   ]
  },
  {
   "cell_type": "code",
   "execution_count": 3,
   "metadata": {},
   "outputs": [
    {
     "name": "stdout",
     "output_type": "stream",
     "text": [
      "The threshold value of this image is: 80.07548155356318\n"
     ]
    },
    {
     "data": {
      "image/png": "[encoded data removed]",
      "text/plain": [
       "<Figure size 432x288 with 1 Axes>"
      ]
     },
     "metadata": {
      "needs_background": "light"
     },
     "output_type": "display_data"
    }
   ],
   "source": [
    "list = img.ravel()\n",
    "\n",
    "def Gaussian(x,x0,sig):\n",
    "    y= (1/(np.sqrt(2*np.pi)*sig))*np.exp(-(x-x0)**2/2/sig**2)\n",
    "    return(y)\n",
    "plt.hist(list,bins = 64,density=True)\n",
    "xlist = np.arange(0,250,0.01)\n",
    "ylist = Gaussian(xlist,np.mean(list),np.std(list))\n",
    "plt.plot(xlist,ylist)\n",
    "value = np.mean(list)-(np.std(list))\n",
    "print(\"The threshold value of this image is:\",value)"
   ]
  },
  {
   "cell_type": "code",
   "execution_count": 10,
   "metadata": {},
   "outputs": [],
   "source": [
    "Cloudmap = img\n",
    "kernel = np.ones((1,1),np.uint8)\n",
    "\n",
    "\n",
    "ret,threshCloud = cv2.threshold(Cloudmap,value,255,cv2.THRESH_BINARY_INV)\n",
    "threshCloudOpen = cv2.morphologyEx(threshCloud, cv2.MORPH_OPEN, kernel)\n",
    "threshCloudFinal = cv2.morphologyEx(threshCloudOpen, cv2.MORPH_CLOSE, kernel)\n",
    "cv2.imshow(\"Threshcloud\", threshCloudFinal)\n",
    "cv2.waitKey(0)\n",
    "cv2.destroyAllWindows()"
   ]
  },
  {
   "cell_type": "code",
   "execution_count": 11,
   "metadata": {},
   "outputs": [],
   "source": [
    "\n",
    "# Load angdist/pixel document [ratio, xloc, yloc]\n",
    "star_ratios = np.loadtxt('loc_and_ratios.txt')\n",
    "\n",
    "# Find center of data\n",
    "midpoint = (720/2,480/2)\n",
    "\n",
    "# Loop of angles to rotate through\n",
    "rads = np.arange(0,2*np.pi,np.deg2rad(5))\n",
    "\n",
    "empty = []\n",
    "\n",
    "for i in np.arange(0,len(rads)):\n",
    "    # rotate original by ang radians\n",
    "    ang = rads[i]\n",
    "    \n",
    "    # Make everything centered at (0,0)\n",
    "    xs = star_ratios[:,1]-midpoint[0]\n",
    "    ys = star_ratios[:,2]- midpoint[1]\n",
    "    \n",
    "    # Rotation matrix!\n",
    "    rota = [[np.cos(ang), -np.sin(ang)],[np.sin(ang),np.cos(ang)]]\n",
    "    mul = np.matmul(rota,[xs,ys])\n",
    "    trans = np.transpose(mul)\n",
    "    \n",
    "    # Move things back to way they were\n",
    "    xs2 = trans[:,0]+midpoint[0]\n",
    "    ys2 = trans[:,1]+midpoint[1]\n",
    "    \n",
    "    # Append to array\n",
    "    rotated_group = np.column_stack((star_ratios[:,0],xs2,ys2))\n",
    "    if i == 0:\n",
    "        all_rotated_copies = rotated_group\n",
    "    else:\n",
    "        all_rotated_copies = np.vstack((all_rotated_copies,rotated_group))\n",
    "\n",
    "# Only care about data points that fall within our camera pixel regions\n",
    "\n",
    "cond1 = (all_rotated_copies[:,1]>=0)&(all_rotated_copies[:,1]<=720)\n",
    "cond2 = (all_rotated_copies[:,2]>=0)&(all_rotated_copies[:,2]<=480)\n",
    "cond12 = cond1&cond2\n",
    "\n",
    "# Here we make the different squares have different ratio values\n",
    "\n",
    "# This inc can be changed to make squares different sized\n",
    "inc = 40\n",
    "xdivs = np.arange(0,720+inc,inc)\n",
    "ydivs = np.arange(0,480+inc,inc)\n",
    "ydivs = ydivs[::-1]\n",
    "\n",
    "# Create empty array\n",
    "empty = np.zeros((len(ydivs)-1,len(xdivs)-1))\n",
    "\n",
    "# Look in each square region\n",
    "for i in np.arange(0,len(xdivs)-1):\n",
    "    left = xdivs[i]\n",
    "    right = xdivs[i+1]\n",
    "    for j in np.arange(0,len(ydivs)-1):\n",
    "        bottom = ydivs[j+1]\n",
    "        top = ydivs[j]\n",
    "        \n",
    "        # Look at all data points within x and y bounds\n",
    "        cond_x = ((all_rotated_copies[:,1] >= left)&(all_rotated_copies[:,1] < right))\n",
    "        cond_y = ((all_rotated_copies[:,2] >= bottom)&(all_rotated_copies[:,2] < top))\n",
    "        cond_both = (cond_x&cond_y)\n",
    "        subset = all_rotated_copies[cond_both]\n",
    "        \n",
    "        # If anything is in there, average the ratios and append to empty array\n",
    "        if len(subset) > 0:\n",
    "            empty[j,i] = np.average(subset[:,0])\n",
    "        else:\n",
    "            empty[j,i] = 0\n",
    "\n"
   ]
  },
  {
   "cell_type": "code",
   "execution_count": 22,
   "metadata": {},
   "outputs": [],
   "source": [
    "cloudmapAnalysis = empty\n",
    "NewCloudMapAnalysis = cv2.resize(cloudmapAnalysis,(720,480))\n",
    "Final = NewCloudMapAnalysis*threshCloudFinal"
   ]
  },
  {
   "cell_type": "code",
   "execution_count": 25,
   "metadata": {},
   "outputs": [],
   "source": [
    "cv2.imshow(\"Final\", Final)\n",
    "cv2.waitKey(0)\n",
    "cv2.destroyAllWindows()"
   ]
  },
  {
   "cell_type": "code",
   "execution_count": 30,
   "metadata": {},
   "outputs": [],
   "source": [
    "cv2.imshow(\"Final\", NewCloudMapAnalysis)\n",
    "cv2.waitKey(0)\n",
    "cv2.destroyAllWindows()"
   ]
  },
  {
   "cell_type": "code",
   "execution_count": 29,
   "metadata": {},
   "outputs": [],
   "source": [
    "cv2.imshow(\"Final\", threshCloudFinal)\n",
    "cv2.waitKey(0)\n",
    "cv2.destroyAllWindows()"
   ]
  },
  {
   "cell_type": "code",
   "execution_count": 26,
   "metadata": {},
   "outputs": [
    {
     "data": {
      "text/plain": [
       "2207988.557828437"
      ]
     },
     "execution_count": 26,
     "metadata": {},
     "output_type": "execute_result"
    }
   ],
   "source": [
    "np.sum(Final)"
   ]
  },
  {
   "cell_type": "code",
   "execution_count": 28,
   "metadata": {},
   "outputs": [
    {
     "data": {
      "text/plain": [
       "15383130"
      ]
     },
     "execution_count": 28,
     "metadata": {},
     "output_type": "execute_result"
    }
   ],
   "source": [
    "np.sum(threshCloudFinal)"
   ]
  },
  {
   "cell_type": "code",
   "execution_count": null,
   "metadata": {},
   "outputs": [],
   "source": []
  }
 ],
 "metadata": {
  "kernelspec": {
   "display_name": "Python 3",
   "language": "python",
   "name": "python3"
  },
  "language_info": {
   "codemirror_mode": {
    "name": "ipython",
    "version": 3
   },
   "file_extension": ".py",
   "mimetype": "text/x-python",
   "name": "python",
   "nbconvert_exporter": "python",
   "pygments_lexer": "ipython3",
   "version": "3.7.3"
  }
 },
 "nbformat": 4,
 "nbformat_minor": 2
}
