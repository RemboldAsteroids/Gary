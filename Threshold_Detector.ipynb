{
 "cells": [
  {
   "cell_type": "code",
   "execution_count": 5,
   "metadata": {},
   "outputs": [],
   "source": [
    "import math\n",
    "import sqlite3\n",
    "import pandas as pd\n",
    "import numpy as np\n",
    "import matplotlib.pyplot as plt\n",
    "import os\n",
    "import cv2\n",
    "import time\n",
    "import datetime\n",
    "from statsmodels import robust\n",
    "import matplotlib as mpl\n",
    "from matplotlib import gridspec\n",
    "import pylab\n",
    "from matplotlib import cm\n",
    "from pytz import timezone\n",
    "import Analysis\n",
    "from scipy.stats import norm"
   ]
  },
  {
   "cell_type": "markdown",
   "metadata": {},
   "source": [
    "A function to determine the values for each pixel in the image, and from there to determine the ideal threshohold value. To be automated after the code works for a sample of 6 images\n",
    "\n",
    "Make it a gaussian and take where two standard deviations away would be\n",
    "Also try finding where the slope goes from negative to positive"
   ]
  },
  {
   "cell_type": "code",
   "execution_count": 67,
   "metadata": {},
   "outputs": [
    {
     "data": {
      "image/png": "[encoded data removed]",
      "text/plain": [
       "<Figure size 432x288 with 1 Axes>"
      ]
     },
     "metadata": {
      "needs_background": "light"
     },
     "output_type": "display_data"
    },
    {
     "data": {
      "text/plain": [
       "29423.529166666667"
      ]
     },
     "execution_count": 67,
     "metadata": {},
     "output_type": "execute_result"
    }
   ],
   "source": [
    "img = cv2.imread(\"20191026_093748_Snap.png\",0)\n",
    "\n",
    "plt.hist(img.ravel(),64,[0,256]); plt.ylim(0,1000); plt.show()\n",
    "\n",
    "Sum = np.sum(img)\n",
    "\n",
    "Length = len(img)\n",
    "\n",
    "Sum/Length\n",
    "#cv2.calcHist(images, channels, mask, histSize, ranges[, hist[, accumulate]]) This is the raw function before values inputed\n",
    "\n",
    "#cv2.calcHist([img], [0], None, [256], [0,256])"
   ]
  },
  {
   "cell_type": "markdown",
   "metadata": {},
   "source": [
    "color = ('b','g','r')\n",
    "for i,col in enumerate(color):\n",
    "    histr = cv2.calcHist([img],[i],None,[256],[0,256])\n",
    "    plt.plot(histr,color = col)\n",
    "    plt.xlim([0,256])\n",
    "plt.show()"
   ]
  },
  {
   "cell_type": "code",
   "execution_count": 74,
   "metadata": {},
   "outputs": [
    {
     "name": "stdout",
     "output_type": "stream",
     "text": [
      "The threshold value of this image is: 56.05376017512417\n"
     ]
    },
    {
     "data": {
      "image/png": "[encoded data removed]",
      "text/plain": [
       "<Figure size 432x288 with 1 Axes>"
      ]
     },
     "metadata": {
      "needs_background": "light"
     },
     "output_type": "display_data"
    }
   ],
   "source": [
    "list = img.ravel()\n",
    "\n",
    "def Gaussian(x,x0,sig):\n",
    "    y= (1/(np.sqrt(2*np.pi)*sig))*np.exp(-(x-x0)**2/2/sig**2)\n",
    "    return(y)\n",
    "plt.hist(list,bins = 64,density=True)\n",
    "xlist = np.arange(0,250,0.01)\n",
    "ylist = Gaussian(xlist,np.mean(list),np.std(list))\n",
    "plt.plot(xlist,ylist)\n",
    "value = np.mean(list)+np.std(list)\n",
    "print(\"The threshold value of this image is:\",value)"
   ]
  },
  {
   "cell_type": "code",
   "execution_count": 75,
   "metadata": {},
   "outputs": [],
   "source": [
    "Cloudmap = img\n",
    "kernel = np.ones((1,1),np.uint8)\n",
    "\n",
    "\n",
    "ret,threshCloud = cv2.threshold(Cloudmap,value,255,cv2.THRESH_BINARY_INV)\n",
    "threshCloudOpen = cv2.morphologyEx(threshCloud, cv2.MORPH_OPEN, kernel)\n",
    "threshCloudFinal = cv2.morphologyEx(threshCloudOpen, cv2.MORPH_CLOSE, kernel)\n",
    "cv2.imshow(\"Threshcloud\", threshCloudFinal)\n",
    "cv2.waitKey(0)\n",
    "cv2.destroyAllWindows()"
   ]
  }
 ],
 "metadata": {
  "kernelspec": {
   "display_name": "Python 3",
   "language": "python",
   "name": "python3"
  },
  "language_info": {
   "codemirror_mode": {
    "name": "ipython",
    "version": 3
   },
   "file_extension": ".py",
   "mimetype": "text/x-python",
   "name": "python",
   "nbconvert_exporter": "python",
   "pygments_lexer": "ipython3",
   "version": "3.7.3"
  }
 },
 "nbformat": 4,
 "nbformat_minor": 2
}
